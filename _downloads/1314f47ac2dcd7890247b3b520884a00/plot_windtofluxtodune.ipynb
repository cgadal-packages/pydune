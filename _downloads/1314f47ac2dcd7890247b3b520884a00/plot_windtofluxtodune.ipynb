{
  "cells": [
    {
      "cell_type": "markdown",
      "metadata": {},
      "source": [
        "\n# From wind data to sand fluxes and dune orientations\n\nIn this tutorial, we show on the use pydune functions to go from wind data,\nto the calculation of sand fluxes, and then to dune properties.\n"
      ]
    },
    {
      "cell_type": "code",
      "execution_count": null,
      "metadata": {
        "collapsed": false
      },
      "outputs": [],
      "source": [
        "import matplotlib.pyplot as plt\nimport numpy as np\n\nfrom pydune.data_processing import load_netcdf, plot_flux_rose, plot_wind_rose, velocity_to_shear\nfrom pydune.math import (\n    cartesian_to_polar,\n    make_angular_average,\n    make_angular_PDF,\n    tand,\n    vector_average,\n)"
      ]
    },
    {
      "cell_type": "markdown",
      "metadata": {},
      "source": [
        "## Loading and plotting the wind data\n\nWe first load the data, and caculate the shear velocity using the law of the wall:\n\n\n"
      ]
    },
    {
      "cell_type": "code",
      "execution_count": null,
      "metadata": {
        "collapsed": false
      },
      "outputs": [],
      "source": [
        "data = load_netcdf([\"../src/ERA5Land2020to2021_Taklamacan.netcdf\"])\nz_ERA = 10  # height of wind data in the dataset, [m]\n#\nvelocity, orientation = cartesian_to_polar(data[\"u10\"][:, 0, 0], data[\"v10\"][:, 0, 0])\nshear_velocity = velocity_to_shear(velocity, z_ERA)\n\n# figure\nbins_shear = [0, 0.1, 0.15, 0.2, 0.25, 0.3, 0.35]\nbins = [0, 1.5, 3, 4.5, 6, 7.5]\nbbox_label = dict(boxstyle=\"round\", facecolor=(0, 0, 0, 0.15), edgecolor=(0, 0, 0, 1))\n\nfig, axarr = plt.subplots(1, 2, constrained_layout=True)\na = plot_wind_rose(\n    orientation,\n    velocity,\n    bins,\n    axarr[0],\n    fig,\n    opening=1,\n    nsector=25,\n    cmap=plt.cm.viridis,\n    legend=True,\n    label=\"velocity (10m) [m/s]\",\n    props=bbox_label,\n)\na.set_legend(bbox_to_anchor=(-0.15, -0.15))\na = plot_wind_rose(\n    orientation,\n    shear_velocity,\n    bins_shear,\n    axarr[1],\n    fig,\n    opening=1,\n    nsector=25,\n    cmap=plt.cm.viridis,\n    legend=True,\n    label=\"shear velocity [m/s]\",\n    props=bbox_label,\n)\na.set_legend(bbox_to_anchor=(-0.15, -0.15))\nplt.show()"
      ]
    },
    {
      "cell_type": "markdown",
      "metadata": {},
      "source": [
        "## Calculating the sand fluxes\n\nWe then calculate sand fluxes using the quartic law:\n\n"
      ]
    },
    {
      "cell_type": "code",
      "execution_count": null,
      "metadata": {
        "collapsed": false
      },
      "outputs": [],
      "source": [
        "from pydune.physics import quartic_transport_law\n\n# # Parameters\nsectoday = 24 * 3600\nrho_g = 2.65e3  # grain density\nrho_f = 1  # fluid density\ng = 9.81  # [m/s2]\ngrain_diameters = 180e-6  # grain size [m]\nbed_porosity = 0.6  # bed porosity\n#\nQ = (\n    np.sqrt((rho_g - rho_f) * g * grain_diameters / rho_f) * grain_diameters\n)  # characteristic flux [m2/s]\nshield_th_quartic = 0.0035  # threshold shield numbers for the quartic\n\n# shield number\nshield = (rho_f / ((rho_g - rho_f) * g * grain_diameters)) * shear_velocity**2\n# dimensional sand flux, [m2/day]\nsand_flux = (\n    (1 / bed_porosity) * Q * quartic_transport_law(shield, shield_th_quartic) * sectoday\n)\n# angular distribution\nangular_PDF, angles = make_angular_PDF(orientation, sand_flux)\n\nDP = np.mean(sand_flux)  # Drift potential, [m2/day]\n# Resultant drift direction [deg.] / Resultant drift potential, [m2/day]\nRDD, RDP = vector_average(orientation, sand_flux)\n\nprint(\n    rf\"\"\"\n     - DP =  {DP: .1f} [m2/day]\n     - RDP = {RDP: .1f} [m2/day]\n     - RDP/DP = {RDP / DP: .2f}\n     - RDD = {RDD % 360: .0f} [deg.]\n\n\"\"\"\n)\n\n# figure\nbins_flux = [0, 0.1, 0.2, 0.3, 0.4, 0.5]\nfig, axarr = plt.subplots(1, 2, constrained_layout=True)\na = plot_wind_rose(\n    orientation,\n    sand_flux,\n    bins_flux,\n    axarr[0],\n    fig,\n    opening=1,\n    nsector=25,\n    cmap=plt.cm.viridis,\n    legend=True,\n    label=\"sand fluxes [m2/day]\",\n    props=bbox_label,\n)\na.set_legend(bbox_to_anchor=(-0.15, -0.15))\na = plot_flux_rose(\n    angles,\n    angular_PDF,\n    axarr[1],\n    fig,\n    opening=1,\n    label=\"angular distribution\",\n    nsector=25,\n    props=bbox_label,\n)\nplt.show()"
      ]
    },
    {
      "cell_type": "markdown",
      "metadata": {},
      "source": [
        "## Properties of incipient dunes\n\nWe compute the propoerties of incipient dunes (in the linear regime) using the model of Gadal et al. 2019.\n\n[1] Gadal, C., Narteau, C., Du Pont, S. C., Rozier, O., & Claudin, P. (2019). Incipient bedforms in a bidirectional wind regime. Journal of Fluid Mechanics, 862, 490-516.\n\n"
      ]
    },
    {
      "cell_type": "code",
      "execution_count": null,
      "metadata": {
        "collapsed": false
      },
      "outputs": [],
      "source": [
        "from pydune.physics import A0_approx, Ax_geo, Ay_geo, B0_approx, Bx_geo, By_geo\nfrom pydune.physics import bedinstability_2D as BI2D\n\n# parameters\nk = np.linspace(0.001, 0.6, 300)  # range of explored wavelengths, non-dimensional\nalpha = np.linspace(-90, 90, 181)  # range of explored orientations, non-dimensional\nmu = tand(35)  # friction coefficient\ndelta = 0  # diffusion coefficient\nz0 = 1e-3  # hydrodynamic roughness\n\n\ndef Ax(k, alpha):\n    return Ax_geo(alpha, A0_approx(k * z0))\n\n\ndef Bx(k, alpha):\n    return Bx_geo(alpha, B0_approx(k * z0))\n\n\ndef Ay(k, alpha):\n    return Ay_geo(alpha, A0_approx(k * z0))\n\n\ndef By(k, alpha):\n    return By_geo(alpha, A0_approx(k * z0))\n\n\n# threshold shear velocity [m/s]\nshear_velocity_th = np.sqrt(\n    shield_th_quartic / (rho_f / ((rho_g - rho_f) * g * grain_diameters))\n)\n# average velocity ratio by angle bin\nr, _ = make_angular_average(\n    orientation,\n    np.where(shear_velocity > shear_velocity_th, shear_velocity / shear_velocity_th, 1),\n)\n# characteristic average velocity ratio by angle bin (just when its always the threshold)\nr_car, _ = make_angular_average(\n    orientation[shear_velocity > shear_velocity_th],\n    shear_velocity[shear_velocity > shear_velocity_th] / shear_velocity_th,\n)\n\n# dimensional constants\nLsat = 2.2 * ((rho_g - rho_f) / rho_f) * grain_diameters  # saturation length [m]\nQ_car = (\n    DP * angular_PDF / (1 - 1 / r**2)\n)  # Characteristic flux of the instability (without threshold), [m2/day]\nQ_car[np.isnan(Q_car)] = 0\n\n# Calculation of the growth rate\nsigma = BI2D.temporal_growth_rate_multi(\n    k[None, :, None],\n    alpha[:, None, None],\n    Ax,\n    Ay,\n    Bx,\n    By,\n    r_car,\n    mu,\n    delta,\n    angles[None, None, :],\n    Q_car[None, None, :],\n    axis=-1,\n)\n\n\n# Properties of the most unstable mode (dimensional)\ni_amax, i_kmax = np.unravel_index(sigma.argmax(), sigma.shape)\nsigma_max = sigma.max() / Lsat**2\nalpha_max = alpha[i_amax]\nk_max = k[i_kmax] / Lsat\nc_max = Lsat * BI2D.temporal_celerity_multi(\n    Lsat * k_max, alpha_max, Ax, Ay, Bx, By, r_car, mu, delta, angles, Q_car, axis=-1\n)\n\nfig, ax = plt.subplots(1, 1, constrained_layout=True)\nax.contourf(k, alpha, sigma / Lsat**2, levels=200)\nax.plot(k[i_kmax], alpha[i_amax], \"k.\")\nax.set_xlabel(\"None dimensional wavenumber, $k$\")\nax.set_ylabel(r\"Orientation, $\\alpha$ [deg.]\")\nplt.show()\n\nprint(\n    rf\"\"\" The properties of the most unstable mode are:\n     - orientation: {alpha_max + 90:.0f} [deg.]\n     - wavenumber :{k_max:.1e}  [/m]\n     - wavelength : {2 * np.pi / k_max:.1e} [m]\n     - growth rate :  {sigma_max:.1e} [/day]\n     - migration velocity: {c_max:.1e} [m/day]\n\n\"\"\"\n)"
      ]
    },
    {
      "cell_type": "markdown",
      "metadata": {},
      "source": [
        "## Properties of mature dunes\n\nWe then compute the two possible mature dune orientations using the model of Courrech du Pont et al. 2014.\n\n[1] Courrech du Pont, S., Narteau, C., & Gao, X. (2014). Two modes for dune orientation. Geology, 42(9), 743-746.\n\n"
      ]
    },
    {
      "cell_type": "code",
      "execution_count": null,
      "metadata": {
        "collapsed": false
      },
      "outputs": [],
      "source": [
        "from pydune.physics.dune.courrechdupont2014 import (\n    MGBNT_orientation,\n    elongation_direction,\n)\n\nAlpha_E = elongation_direction(angles, angular_PDF)\nAlpha_BI = MGBNT_orientation(angles, angular_PDF)\n\nprint(\n    rf\"\"\" The properties of the mature dunes are:\n     - Elongation direction: {Alpha_E: .0f} [deg]\n     - MGBNT crest orientation: {Alpha_BI: .0f} [deg]\n\n\"\"\"\n)"
      ]
    }
  ],
  "metadata": {
    "kernelspec": {
      "display_name": "Python 3",
      "language": "python",
      "name": "python3"
    },
    "language_info": {
      "codemirror_mode": {
        "name": "ipython",
        "version": 3
      },
      "file_extension": ".py",
      "mimetype": "text/x-python",
      "name": "python",
      "nbconvert_exporter": "python",
      "pygments_lexer": "ipython3",
      "version": "3.13.5"
    }
  },
  "nbformat": 4,
  "nbformat_minor": 0
}