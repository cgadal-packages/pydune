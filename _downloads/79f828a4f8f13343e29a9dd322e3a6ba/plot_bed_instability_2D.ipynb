{
  "cells": [
    {
      "cell_type": "markdown",
      "metadata": {},
      "source": [
        "\n# Bed Instability 2D -- Gadal et al. 2019\n\nHere, we recompute some of the results corresponding to the two-dimensional dune instability present in:\n\nGadal, C., Narteau, C., Du Pont, S. C., Rozier, O., & Claudin, P. (2019). Incipient bedforms in a bidirectional wind regime. Journal of Fluid Mechanics, 862, 490-516.\n"
      ]
    },
    {
      "cell_type": "code",
      "execution_count": null,
      "metadata": {
        "collapsed": false
      },
      "outputs": [],
      "source": [
        "import numpy as np\nimport matplotlib.pyplot as plt\nfrom matplotlib.colors import to_rgba\nfrom pydune.math import tand, cosd, sind\nfrom pydune.physics import bedinstability_2D as BI"
      ]
    },
    {
      "cell_type": "markdown",
      "metadata": {},
      "source": [
        "## Celerity and growth rate under a unidirectional wind\n\nWe fix needed paremeters:\n\n"
      ]
    },
    {
      "cell_type": "code",
      "execution_count": null,
      "metadata": {
        "collapsed": false
      },
      "outputs": [],
      "source": [
        "# parameter space exploration (k -- alpha)\nk, alpha = np.linspace(0.001, 0.6, 2000), np.linspace(-90, 90, 181)\nK, ALPHA = np.meshgrid(k, alpha)\n# constant parameters\nA0, B0 = 3.5, 2\nr, mu, delta = 2.5, tand(35), 0"
      ]
    },
    {
      "cell_type": "markdown",
      "metadata": {},
      "source": [
        "We choose an expression for the hydrodynamics coefficients:\n\n"
      ]
    },
    {
      "cell_type": "code",
      "execution_count": null,
      "metadata": {
        "collapsed": false
      },
      "outputs": [],
      "source": [
        "def Ax(k, alpha, A0=A0):\n    return A0*cosd(alpha)**2\n\n\ndef Bx(k, alpha, B0=B0):\n    return B0*cosd(alpha)**2\n\n\ndef Ay(k, alpha, A0=B0):\n    return 0.5*A0*cosd(alpha)*sind(alpha)\n\n\ndef By(k, alpha, B0=B0):\n    return 0.5*B0*cosd(alpha)*sind(alpha)"
      ]
    },
    {
      "cell_type": "markdown",
      "metadata": {},
      "source": [
        "We compute the non-dimensional growth rate and celerity:\n\n"
      ]
    },
    {
      "cell_type": "code",
      "execution_count": null,
      "metadata": {
        "collapsed": false
      },
      "outputs": [],
      "source": [
        "SIGMA = BI.temporal_growth_rate(K, ALPHA, Ax, Ay, Bx, By, r, mu, delta)\nCELERITY = BI.temporal_celerity(K, ALPHA, Ax, Ay, Bx, By, r, mu, delta)\n\nfig, axarr = plt.subplots(1, 2, constrained_layout=True, sharex=True, sharey=True)\n\ncf = axarr[0].contourf(K, ALPHA, SIGMA, 200)\ncb = fig.colorbar(cf, label=r'$\\sigma$', location='top', ax=axarr[0],\n                  ticks=np.linspace(-1.5, 0.5, 5)*1e-1)\ncb.ax.ticklabel_format(axis='x', style='sci', scilimits=(0.1, 9))\naxarr[0].plot(k[SIGMA.argmax(axis=1)], alpha, 'k--')\n\n#\ncf = axarr[1].contourf(K, ALPHA, CELERITY, 200)\ncb = fig.colorbar(cf, label=r'$c$', location='top', ax=axarr[1],\n                  ticks=np.linspace(0, 1.8, 7))\ncb.ax.ticklabel_format(axis='x', style='sci', scilimits=(0.1, 9))\n\n\naxarr[0].set_xlabel('Wavenumber, $k$')\naxarr[1].set_xlabel('Wavenumber, $k$')\naxarr[0].set_ylabel(r'Orientation, $\\alpha$ [deg.]')"
      ]
    },
    {
      "cell_type": "markdown",
      "metadata": {},
      "source": [
        "## Growth rate under a bidirectional wind\n\n"
      ]
    },
    {
      "cell_type": "code",
      "execution_count": null,
      "metadata": {
        "collapsed": false
      },
      "outputs": [],
      "source": [
        "N = np.array([1, 2])\ntheta = np.array([70, 90, 110])\n\nSIGMAS = BI.growth_rate_bidi(K[..., None, None], ALPHA[..., None, None], Ax, Ay, Bx, By,\n                             r, mu, delta, theta[None, None, :, None], N[None, None, None, :])\n\nprint('The shape of SIGMAS is {}'.format(SIGMAS.shape))\nvmax, vmin = SIGMAS.max(), SIGMAS.min()\n\nfig, axarr = plt.subplots(2, 3, constrained_layout=True, sharex=True, sharey=True)\nfor i, n in enumerate(N):\n    for j, th in enumerate(theta):\n        ax = axarr[i, j]\n        cf = ax.contourf(K, ALPHA, SIGMAS[..., j, i], 200, vmin=vmin, vmax=vmax)\n        ax.plot(k[SIGMAS[..., j, i].argmax(axis=1)], alpha, 'k--')\n        ax.text(0.05, 0.95, r'$N = {}$, $\\theta = {}$'.format(n, th), ha='left',\n                va='top', transform=ax.transAxes,\n                bbox=dict(facecolor=to_rgba('wheat', 0.8), edgecolor='black', boxstyle='round'))\n\nfig.colorbar(cf, ax=axarr, location='top', label=r'$\\sigma$')\nfor ax in axarr[:, 0].flatten():\n    ax.set_ylabel(r'$\\alpha$')\nfor ax in axarr[-1, :].flatten():\n    ax.set_xlabel(r'k')\n\nplt.show()"
      ]
    }
  ],
  "metadata": {
    "kernelspec": {
      "display_name": "Python 3",
      "language": "python",
      "name": "python3"
    },
    "language_info": {
      "codemirror_mode": {
        "name": "ipython",
        "version": 3
      },
      "file_extension": ".py",
      "mimetype": "text/x-python",
      "name": "python",
      "nbconvert_exporter": "python",
      "pygments_lexer": "ipython3",
      "version": "3.13.5"
    }
  },
  "nbformat": 4,
  "nbformat_minor": 0
}