{
  "cells": [
    {
      "cell_type": "markdown",
      "metadata": {},
      "source": [
        "\n# Selection of dune orientation\n\nIn this example, we show how the calculation of the elonagtion direction and MGBNT\norientation are selected in the model of COurrech du Pont et al 2014.\n\n[1] Courrech du Pont, S., Narteau, C., & Gao, X. (2014). Two modes for dune orientation. Geology, 42(9), 743-746.\n"
      ]
    },
    {
      "cell_type": "code",
      "execution_count": null,
      "metadata": {
        "collapsed": false
      },
      "outputs": [],
      "source": [
        "import numpy as np\nimport matplotlib.pyplot as plt\nfrom pydune.physics import courrechdupont2014 as CDP\n\n\ntheta = np.array([0, 120])\nQ0 = np.array([5, 1])\nalpha = np.arange(0, 361)"
      ]
    },
    {
      "cell_type": "markdown",
      "metadata": {},
      "source": [
        "## Elongation direction\n\n"
      ]
    },
    {
      "cell_type": "code",
      "execution_count": null,
      "metadata": {
        "collapsed": false
      },
      "outputs": [],
      "source": [
        "flux_perp = CDP.resultant_flux_perp_crest_at_crest(alpha[:, None], theta[None, :], Q0[None, :])\nflux_aligned = CDP.resultant_flux_aligned_crest_at_crest(alpha[:, None], theta[None, :], Q0[None, :])\nalpha_E = CDP.elongation_direction(theta, Q0)\n\nfig, ax = plt.subplots(1, 1, constrained_layout=True)\nax.plot(alpha, flux_perp, label='Flux perp. to crest')\nax.plot(alpha, flux_aligned, label='Flux aligned with crest')\nax.axhline(0, color='k', ls='--', lw=1)\nax.axvline(alpha_E, color='k', ls='--', lw=1)\nax.set_xlim(0, 360)\nax.set_xlabel('Crest orientation [deg.]')\nax.set_ylabel('Fluxes [-]')\nax.legend()\nfig.show()"
      ]
    },
    {
      "cell_type": "markdown",
      "metadata": {},
      "source": [
        "## MGBNT orientation\n\n"
      ]
    },
    {
      "cell_type": "code",
      "execution_count": null,
      "metadata": {
        "collapsed": false
      },
      "outputs": [],
      "source": [
        "alpha = np.arange(0, 181)\n\nsigma = CDP.growth_rate(alpha[:, None], theta[None, :], Q0[None, :])\nalpha_MGBNT = CDP.MGBNT_orientation(theta, Q0)\n\nfig, ax = plt.subplots(1, 1, constrained_layout=True)\nax.plot(alpha, sigma)\nax.axhline(sigma.max(), color='k', ls='--', lw=1)\nax.axvline(alpha_MGBNT, color='k', ls='--', lw=1)\nax.set_xlim(0, 180)\nax.set_xlabel('Crest orientation [deg.]')\nax.set_ylabel(r'Growth rate [-]')\nfig.show()"
      ]
    }
  ],
  "metadata": {
    "kernelspec": {
      "display_name": "Python 3",
      "language": "python",
      "name": "python3"
    },
    "language_info": {
      "codemirror_mode": {
        "name": "ipython",
        "version": 3
      },
      "file_extension": ".py",
      "mimetype": "text/x-python",
      "name": "python",
      "nbconvert_exporter": "python",
      "pygments_lexer": "ipython3",
      "version": "3.13.5"
    }
  },
  "nbformat": 4,
  "nbformat_minor": 0
}