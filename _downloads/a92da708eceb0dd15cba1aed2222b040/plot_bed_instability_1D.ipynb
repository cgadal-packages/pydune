{
  "cells": [
    {
      "cell_type": "markdown",
      "metadata": {},
      "source": [
        "\n# Bed Instability 1D\n\nPlotting the dispersion relations corresponding to the one-dimensional dune bed instability.\n"
      ]
    },
    {
      "cell_type": "code",
      "execution_count": null,
      "metadata": {
        "collapsed": false
      },
      "outputs": [],
      "source": [
        "import numpy as np\nimport matplotlib.pyplot as plt\nfrom pydune.physics import bedinstability_1D as BI"
      ]
    },
    {
      "cell_type": "markdown",
      "metadata": {},
      "source": [
        "## Temporal bed instability\n\n"
      ]
    },
    {
      "cell_type": "code",
      "execution_count": null,
      "metadata": {
        "collapsed": false
      },
      "outputs": [],
      "source": [
        "k = np.linspace(0.001, 0.6, 1000)\nA0, B0, mu, r = 3.5, 2, 0.63, 2\n\nsigma = sigma = BI.temporal_growth_rate(k, A0, B0, mu, r)\nc = BI.temporal_velocity(k, A0, B0, mu, r)\n\nfig, ax1 = plt.subplots(constrained_layout=True)\n\ncolor = 'tab:blue'\nax1.plot(k, sigma, color=color)\nax1.set_xlabel('Wavenumber, $k$')\nax1.set_ylabel(r'Temporal growth rate, $\\sigma_{\\rm t}$')\nax1.tick_params(axis='y', labelcolor=color)\nax1.set_xlim(k.min(), k.max())\n\ncolor = 'tab:orange'\nax2 = ax1.twinx()\nax2.plot(k, c, color=color)\nax2.set_ylabel(r'Celerity, $c$')\nax2.tick_params(axis='y', labelcolor=color)\n\nplt.show()"
      ]
    },
    {
      "cell_type": "markdown",
      "metadata": {},
      "source": [
        "## Spatial bed instability\n\n"
      ]
    },
    {
      "cell_type": "code",
      "execution_count": null,
      "metadata": {
        "collapsed": false
      },
      "outputs": [],
      "source": [
        "w = np.linspace(0.001, 0.9, 1000)\nA0, B0, mu, r = 3.5, 2, 0.63, 2\n\nk = BI.spatial_wavenumber(w, A0, B0, mu, r)\nsigma_s = BI.spatial_growth_rate(w, A0, B0, mu, r)\n\nfig, ax1 = plt.subplots(constrained_layout=True)\n\ncolor = 'tab:blue'\nax1.plot(w, sigma_s, color=color)\nax1.set_xlabel(r'Pulsation, $\\omega$')\nax1.set_ylabel(r'Spatial growth rate, $\\sigma_{\\rm s}$')\nax1.tick_params(axis='y', labelcolor=color)\nax1.set_xlim(w.min(), w.max())\n\ncolor = 'tab:orange'\nax2 = ax1.twinx()\nax2.plot(w, k, color=color)\nax2.set_ylabel(r'Wavenumber, $k$')\nax2.tick_params(axis='y', labelcolor=color)\n\nplt.show()"
      ]
    }
  ],
  "metadata": {
    "kernelspec": {
      "display_name": "Python 3",
      "language": "python",
      "name": "python3"
    },
    "language_info": {
      "codemirror_mode": {
        "name": "ipython",
        "version": 3
      },
      "file_extension": ".py",
      "mimetype": "text/x-python",
      "name": "python",
      "nbconvert_exporter": "python",
      "pygments_lexer": "ipython3",
      "version": "3.13.5"
    }
  },
  "nbformat": 4,
  "nbformat_minor": 0
}