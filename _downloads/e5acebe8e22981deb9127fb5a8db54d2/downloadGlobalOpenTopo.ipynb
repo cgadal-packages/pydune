{
  "cells": [
    {
      "cell_type": "markdown",
      "metadata": {},
      "source": [
        "\n# Downloading topography data from OpenTopography\n\nNOTE: This module has been moved as an example because the `gdal` python module can not be easily installed, which prevent from an appropriate maintenance of the `pydune` package.\n\nThis module allows to dowload data from global topography datasets hosted at\n[OpenTopography](https://opentopography.org/) . Before\nusing this module, please read the corresponding documentation\n[here](https://portal.opentopography.org/apidocs/#/Public/getGlobalDem),\nand the data sources [here](https://portal.opentopography.org/dataCatalog?group=global).\n\nRoughly, the steps are:\n\n    - create an OpenTopography account [here](https://portal.opentopography.org/newUser)\n    - once logged in go to 'MyOpenTopo', then in the 'My Account' tab go to 'myOpenTopo Authorizations and API Key'\n    - click 'Request API Key' and declare the string as your API_Key variable in Python\n"
      ]
    },
    {
      "cell_type": "code",
      "execution_count": null,
      "metadata": {
        "collapsed": false
      },
      "outputs": [],
      "source": [
        "import os\nimport requests\nimport numpy as np\nfrom osgeo import gdal\n\n\ndef getting_GOT_topography_data(bounds, directory='./', demtype='AW3D30', API_Key='demoapikeyot2022'):\n    \"\"\" This fuction downloads a GeoTiff from OpenTopography of a region of interest in a public global topography dataset.\n\n    Parameters\n    ----------\n    bounds : tuple\n        the bounding values for a rectangle where topography data. format is south, north, east, west.\n    directory : str\n        the directory where the GeoTiff should be saved (default value is the current directory).\n    demtype : str\n        the global dataset used. options are 'SRTMGL3','SRTMGL1','SRTMGL1_E','AW3D30','AW3D30_E','SRTM15Plus','NASADEM','COP30','COP90' (default value is 'AW3D30')\n    API_Key : str\n        the user API key for OpenTopography which can be found in the MyOpenTopo portal (default value is the demonstration key for 2022 which may expire 'demoapikeyot2022')\n\n    Returns\n    -------\n    fname : str\n        the downloaded file name including the full path\n\n    Examples\n    --------\n    >>> south,north,east,west = 21.25,21.35,54.45,54.55\n    >>> bounds = (south,north,east,west)\n    >>> loc = GlobalOT.getting_topography_data(bounds,demtype='SRTMGL3')\n\n    \"\"\"\n    south, north, east, west = bounds\n    if east >= west:\n        raise ValueError('east bound must be strictly less than west bound')\n    if south >= north:\n        raise ValueError('south bound must be strictly less than north bound')\n\n    demtypes = ['SRTMGL3', 'SRTMGL1', 'SRTMGL1_E', 'AW3D30',\n                'AW3D30_E', 'SRTM15Plus', 'NASADEM', 'COP30', 'COP90']\n    if demtype not in demtypes:\n        raise ValueError(\n            'demtype must be one of the following:\\n'+'\\n'.join(demtypes))\n\n    if not os.path.isdir(directory):\n        raise ValueError('directory must exist')\n\n    fname = 'OpenTopo_%s_S%s_N%s_E%s_W%s.tif' % (\n        demtype, south, north, east, west)\n    apiurl = 'https://portal.opentopography.org/API/globaldem?demtype=%s&south=%s&north=%s&west=%s&east=%s&outputFormat=GTiff&API_Key=%s' % (\n        demtype, south, north, east, west, API_Key)\n    r = requests.get(apiurl, stream=True)\n    if r.status_code == 200:\n        with open(directory+fname, 'wb') as f:\n            f.write(r.content)\n        print('Topography successfully downloaded.')\n    elif r.status_code == 400:\n        return 'Bad request to OpenTopography. Could be due to size; try decreasing bounds.'\n    elif r.status_code == 401:\n        return 'Unauthorized access to OpenTopography. Could be API Key.'\n    elif r.status_code == 500:\n        return 'Internal Error with OpenTopography.'\n    return directory+fname\n\n\ndef load_xyz_geotiff(fname):\n    \"\"\" This fuction loads a GeoTiff of topography data and returns coordinate arrays (x,y) and the elevation array (z).\n\n    Parameters\n    ----------\n    fname : str\n        the path to the GeoTiff file\n\n    Returns\n    -------\n    x : numpy array\n        the 1-d east-west coordinate array, is in the native units from the GeoTiff\n    y : numpy array\n        the 1-d south-north coordinate array, is in the native units from the GeoTiff\n    z : numpy array\n        the 2-d elevation array, origin is southeast corner, is in the native units from the GeoTiff\n    \"\"\"\n    img = gdal.Open(fname)\n    band = img.GetRasterBand(1)\n    z = np.flipud(band.ReadAsArray())\n    width = img.RasterXSize\n    height = img.RasterYSize\n    gt = img.GetGeoTransform()\n    minx = gt[0]\n    miny = gt[3] + width*gt[4] + height*gt[5]\n    maxx = gt[0] + width*gt[1] + height*gt[2]\n    maxy = gt[3]\n    x = np.linspace(minx, maxx, width)\n    y = np.linspace(miny, maxy, height)\n    return x, y, z"
      ]
    },
    {
      "cell_type": "markdown",
      "metadata": {},
      "source": [
        "## Downloading topography data from OpenTopography\n\n"
      ]
    },
    {
      "cell_type": "code",
      "execution_count": null,
      "metadata": {
        "collapsed": false
      },
      "outputs": [],
      "source": [
        "# Please find below a typical script allowing to download SRTM Global 3-arcsecond data from OpenTopography.\n\nif __name__ == '__main__':\n\n    south, north, east, west = 21.25, 21.35, 54.45, 54.55\n    bounds = (south, north, east, west)\n    loc = getting_GOT_topography_data(bounds, demtype='SRTMGL3')"
      ]
    }
  ],
  "metadata": {
    "kernelspec": {
      "display_name": "Python 3",
      "language": "python",
      "name": "python3"
    },
    "language_info": {
      "codemirror_mode": {
        "name": "ipython",
        "version": 3
      },
      "file_extension": ".py",
      "mimetype": "text/x-python",
      "name": "python",
      "nbconvert_exporter": "python",
      "pygments_lexer": "ipython3",
      "version": "3.13.5"
    }
  },
  "nbformat": 4,
  "nbformat_minor": 0
}