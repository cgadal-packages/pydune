{
  "cells": [
    {
      "cell_type": "markdown",
      "metadata": {},
      "source": [
        "\n# Properties of a turbulent flow on a sinusoidal bottom\n\nIn this tutorial, we show exemples using the\n:func:`solve_turbulent_flow <PyDune.physics.turbulent_flow.flow_solver.solve_turbulent_flow>` solver.\n\nIn particular, we focus on the calculation of the basal shear stress induced by\na turbulent flow on a sinusoidal bottom, which is usefull for the sediment bed\nmorphodynamics, in various flow configurations:\n\n    - '1D_unbounded': 1D, unbounded turbulent flow (in practice capped by a rigid lid, that should be put far from the bed) [1, 2]\n    - '1D_freesurface': 1D, turbulent flow capped by a free surface (typically river configuration) [1, 2]\n    - '1D_freeatmosphere': 1D, turbulent flow capped by a stratified flow (typically atmopshere configuration) [3]\n    - '2D_unbounded': 2D, unbounded turbulent flow (in practice capped by a rigid lid, that should be put far from the bed) [1, 2, 3]\n\nFor details on the flow theoretical modelling, please refer to the references below:\n\n.. line-block::\n    [1] Fourri\u00e8re, A. (2009). Morphodynamique des rivi\u00e8res: S\u00e9lection de la largeur, rides et dunes (Doctoral dissertation, Universit\u00e9 Paris-Diderot-Paris VII).\n    [2] Fourriere, A., Claudin, P., & Andreotti, B. (2010). Bedforms in a turbulent stream: formation of ripples by primary linear instability and of dunes by nonlinear pattern coarsening. Journal of Fluid Mechanics, 649, 287-328.\n    [3] Andreotti, B., Fourriere, A., Ould-Kaddour, F., Murray, B., & Claudin, P. (2009). Giant aeolian dune size determined by the average depth of the atmospheric boundary layer. Nature, 457(7233), 1120-1123.\n    [4] Andreotti, B., Claudin, P., Devauchelle, O., Dur\u00e1n, O., & Fourri\u00e8re, A. (2012). Bedforms in a turbulent stream: ripples, chevrons and antidunes. Journal of Fluid Mechanics, 690, 94-128.\n"
      ]
    },
    {
      "cell_type": "code",
      "execution_count": null,
      "metadata": {
        "collapsed": false
      },
      "outputs": [],
      "source": [
        "import matplotlib.pyplot as plt\nimport numpy as np\n\nfrom pydune.physics import Ax_geo, Ay_geo, Bx_geo, By_geo, mu, mu_prime, solve_turbulent_flow"
      ]
    },
    {
      "cell_type": "markdown",
      "metadata": {},
      "source": [
        "## One-dimensional case -- unbounded regime\n\n### Basal shear stress coefficients\n\n"
      ]
    },
    {
      "cell_type": "code",
      "execution_count": null,
      "metadata": {
        "collapsed": false
      },
      "outputs": [],
      "source": [
        "model = '1D_unbounded'\n\neta_H = 10\neta_0_vals = np.logspace(-10, 0, 100)\neta = 0\n#\ncoeffs = np.zeros((2, eta_0_vals.size))\nfor i, eta_0 in enumerate(eta_0_vals):\n    parameters = {'eta_H': eta_H, 'eta_0': eta_0}\n    solution_function = solve_turbulent_flow(model, parameters)\n    # solution at the bottom surface\n    solution = solution_function(eta)\n    A0, B0 = np.real(solution[2]), np.imag(solution[2])\n    coeffs[:, i] = [A0, B0]\n\nfig, ax = plt.subplots(1, 1, constrained_layout=True)\nax.plot(eta_0_vals, coeffs[0, :], label='$A_{0}$')\nax.plot(eta_0_vals, coeffs[1, :], label='$B_{0}$')\n#\nax.set_xscale('log')\nax.set_yscale('log')\nax.set_xlabel(r'Non-dimensional wavenumber, $k z_{0}$')\nax.set_ylabel('Hydrodynamic coefficients')\nplt.legend()\nplt.show()"
      ]
    },
    {
      "cell_type": "markdown",
      "metadata": {},
      "source": [
        "### Vertical profiles\n\n"
      ]
    },
    {
      "cell_type": "code",
      "execution_count": null,
      "metadata": {
        "collapsed": false
      },
      "outputs": [],
      "source": [
        "eta = np.logspace(np.log10(1e-6), np.log10(0.95*eta_H), 1000)\neta_0 = 1e-4\nparameters = {'eta_H': eta_H, 'eta_0': eta_0}\n\nsolution_function = solve_turbulent_flow(\n    model, parameters, atol=1e-14, rtol=1e-14)\nsolution = solution_function(eta)\n\nlabels = [r'$\\~U$', r'$\\~W$', r'$\\~St$', r'$\\~Sn$']\nfig, axarr = plt.subplots(2, 2, constrained_layout=True, sharey=True)\nfor i, (ax, sol, label) in enumerate(zip(axarr.flatten(), solution, labels)):\n    if i == 0:\n        ax.semilogy(np.real(sol + mu_prime(eta, eta_0, Kappa=0.4)), eta)\n        ax.semilogy(np.imag(sol + mu_prime(eta, eta_0, Kappa=0.4)), eta)\n    else:\n        ax.semilogy(np.real(sol), eta)\n        ax.semilogy(np.imag(sol), eta)\n    ax.set_ylim(1e-6, 10)\n    ax.set_ylabel('Shifted coordinate')\n    ax.set_xlabel(label)\nplt.show()"
      ]
    },
    {
      "cell_type": "markdown",
      "metadata": {},
      "source": [
        "### streamlines\n\n"
      ]
    },
    {
      "cell_type": "code",
      "execution_count": null,
      "metadata": {
        "collapsed": false
      },
      "outputs": [],
      "source": [
        "# topography parameters\nk_xi = 0.35\nk_x = np.linspace(0, 10, 500)\nkZ = k_xi*np.real(np.exp(1j*k_x))\n\n# calculating solution on linearly distributed vertical coordinates\neta = np.linspace(1e-10, 2, 1000)\nsolution = solution_function(eta)\n\n# calculating velocity field from the solution\nUx = np.real(mu(eta[:, None], eta_0)\n             + k_xi*np.exp(1j*k_x[None, :]) * solution[0, :][:, None])\nUz = np.real(k_xi*np.exp(1j*k_x[None, :]) * solution[1, :][:, None])\nU = np.sqrt(Ux**2 + Uz**2)\n\nmask = (eta[:, None] <= kZ[None, :])\nUx = np.ma.array(Ux, mask=mask)\nUz = np.ma.array(Uz, mask=mask)\n\n# figure\nfig, ax = plt.subplots(1, 1, constrained_layout=True)\nplt.plot(k_x, kZ, color='k')\nax.streamplot(k_x, eta, Ux, Uz)\nax.set_xlabel('$k x$')\nax.set_ylabel('$k z$')\nplt.show()"
      ]
    },
    {
      "cell_type": "markdown",
      "metadata": {},
      "source": [
        "## One-dimensional case -- interaction with the free surface\n\n### Dependency of the basal shear stress coefficients on the water height\n\n"
      ]
    },
    {
      "cell_type": "code",
      "execution_count": null,
      "metadata": {
        "collapsed": false
      },
      "outputs": [],
      "source": [
        "eta_H_vals = np.logspace(-2, 2, 100)\nFroudes = np.array([0.01, 0.1, 0.8, None])\nH_z0_ratio = 1e3\neta = 0\n#\ncoeffs = np.zeros((2, eta_H_vals.size, Froudes.size))\nfor i, eta_H in enumerate(eta_H_vals):\n    eta_0 = eta_H/H_z0_ratio\n    for j, Fr in enumerate(Froudes):\n        if Fr is None:\n            model = '1D_unbounded'\n            parameters = {'eta_H': eta_H, 'eta_0': eta_0}\n        else:\n            model = '1D_freesurface'\n            parameters = {'eta_H': eta_H, 'eta_0': eta_0, 'Fr': Fr}\n        solution_function = solve_turbulent_flow(model, parameters)\n        solution = solution_function(eta)\n        #\n        A0, B0 = np.real(solution[2]), np.imag(solution[2])\n        coeffs[:, i, j] = [A0, B0]\n\n# Figure\nfig, axarr = plt.subplots(1, 2, constrained_layout=True, sharex=True)\nfor j, Fr in enumerate(Froudes):\n    axarr[0].plot(eta_H_vals, coeffs[0, :, j], label=str(Fr)\n                  if Fr is not None else 'unbounded')\n    axarr[1].plot(eta_H_vals, coeffs[1, :, j])\n#\nfor ax in axarr:\n    ax.set_xscale('log')\n    ax.set_xlabel(r'Non-dimensional water height, $k H$')\n    ax.set_ylabel('Hydrodynamic coefficients')\naxarr[0].set_ylim(-10, 80)\naxarr[1].set_ylim(-15, 15)\naxarr[0].legend(title='Froude')\nplt.show()"
      ]
    },
    {
      "cell_type": "markdown",
      "metadata": {},
      "source": [
        "## One-dimensional case -- interaction with the free surface topped by a stratified free atmosphere\n\n### Dependency of the basal shear stress coefficients on the bottom perturbation orientation\n\n"
      ]
    },
    {
      "cell_type": "code",
      "execution_count": null,
      "metadata": {
        "collapsed": false
      },
      "outputs": [],
      "source": [
        "model = '1D_freeatmosphere'\n\neta_0 = 1e-6\neta_H_vals = np.logspace(-2, 1, 100)\neta_B_vals = 2*eta_H_vals\nFr = np.sqrt(0.7)\neta = 0\n\ncoeffs = np.zeros((2, eta_H_vals.size))\nfor i, (eta_H, eta_B) in enumerate(zip(eta_H_vals, eta_B_vals)):\n    # #### turbulent flow\n    parameters = {'eta_H': eta_H, 'eta_0': eta_0, 'Fr': Fr, 'eta_B': eta_B}\n    solution_function, _ = solve_turbulent_flow(model, parameters)\n    solution = solution_function(eta)\n    #\n    A0, B0 = np.real(solution[2]), np.imag(solution[2])\n    coeffs[:, i] = [A0, B0]\n\n\nfig, ax = plt.subplots(1, 1, constrained_layout=True, sharex=True)\nax.plot(eta_H_vals, coeffs[0, :], label='$A_{0}$')\nax.plot(eta_H_vals, coeffs[1, :], label='$B_{0}$')\nax.set_xscale('log')\nax.set_yscale('log')\nax.set_xlabel(r'Non-dimensional wavenumber, $k H$')\nax.set_ylabel('Hydrodynamic coefficients')\nplt.legend()\nplt.show()"
      ]
    },
    {
      "cell_type": "markdown",
      "metadata": {},
      "source": [
        "## Two-dimensional case -- unbounded regime\n\n### Dependency of the basal shear stress coefficients on the bottom perturbation orientation\n\n"
      ]
    },
    {
      "cell_type": "code",
      "execution_count": null,
      "metadata": {
        "collapsed": false
      },
      "outputs": [],
      "source": [
        "model = '2D_unbounded'\n\neta_H = 10\neta_0 = 1e-6\nalpha_vals = np.linspace(0, 90, 30)\neta = 0\n\ncoeffs = np.zeros((4, alpha_vals.size))\nfor i, alpha in enumerate(alpha_vals):\n    parameters = {'eta_H': eta_H, 'eta_0': eta_0, 'alpha': alpha}\n    solution_function = solve_turbulent_flow(\n        model, parameters, rtol=1e-15, atol=1e-15)\n    solution = solution_function(eta)\n    #\n    Ax_m, Bx_m = np.real(solution[3]), np.imag(solution[3])\n    Ay_m, By_m = np.real(solution[4]), np.imag(solution[4])\n    coeffs[:, i] = [Ax_m, Bx_m, Ay_m, By_m]\n\n\nfig, axarr = plt.subplots(1, 2, constrained_layout=True, sharex=True)\na,  = axarr[0].plot(alpha_vals, coeffs[0, :], label='$A_{x}$')\naxarr[0].plot(alpha_vals, Ax_geo(alpha_vals, coeffs[0, 0]),\n              color=a.get_color(), ls='--', label=r'$A_{x}(0)\\cos(\\alpha)^{2}$')\nb, = axarr[0].plot(alpha_vals, coeffs[1, :], label='$B_{x}$')\naxarr[0].plot(alpha_vals, Bx_geo(alpha_vals, coeffs[1, 0]),\n              color=b.get_color(), ls='--', label=r'$B_{x}(0)\\cos(\\alpha)^{2}$')\n#\na, = axarr[1].plot(alpha_vals, coeffs[2, :], label='$A_{y}$')\naxarr[1].plot(alpha_vals, Ay_geo(alpha_vals, coeffs[0, 0]),\n              color=a.get_color(), ls='--',  label=r'0.5$A_{x}(0)\\cos(\\alpha)\\sin(\\alpha)$')\nb, = axarr[1].plot(alpha_vals, coeffs[3, :], label='$B_{y}$')\naxarr[1].plot(alpha_vals, By_geo(alpha_vals, coeffs[1, 0]),\n              color=a.get_color(), ls='--', label=r'0.5$B_{x}(0)\\cos(\\alpha)\\sin(\\alpha)$')\n\naxarr[0].set_ylabel('Hydrodynamic coefficients')\naxarr[0].set_xlabel(r'$\\alpha$ [deg.]')\naxarr[0].legend()\naxarr[1].set_ylabel('Hydrodynamic coefficients')\naxarr[1].set_xlabel(r'$\\alpha$ [deg.]')\naxarr[1].legend()\n\nplt.show()"
      ]
    }
  ],
  "metadata": {
    "kernelspec": {
      "display_name": "Python 3",
      "language": "python",
      "name": "python3"
    },
    "language_info": {
      "codemirror_mode": {
        "name": "ipython",
        "version": 3
      },
      "file_extension": ".py",
      "mimetype": "text/x-python",
      "name": "python",
      "nbconvert_exporter": "python",
      "pygments_lexer": "ipython3",
      "version": "3.13.5"
    }
  },
  "nbformat": 4,
  "nbformat_minor": 0
}