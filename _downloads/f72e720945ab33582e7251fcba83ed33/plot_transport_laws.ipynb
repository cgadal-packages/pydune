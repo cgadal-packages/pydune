{
  "cells": [
    {
      "cell_type": "markdown",
      "metadata": {},
      "source": [
        "\n# Fitting transport laws\n\nFitting the different transport laws to the laboratory data of:\n\n.. line-block::\n    - [1] Creyssels, M., Dupont, P., El Moctar, A. O., Valance, A., Cantat, I., Jenkins, J. T., ... & Rasmussen, K. R. (2009). Saltating particles in a turbulent boundary layer: experiment and theory. Journal of Fluid Mechanics, 625, 47-74.\n    - [2] Ho, T. D., Valance, A., Dupont, P., & El Moctar, A. O. (2011). Scaling laws in aeolian sand transport. Physical Review Letters, 106(9), 094501.\n"
      ]
    },
    {
      "cell_type": "code",
      "execution_count": null,
      "metadata": {
        "collapsed": false
      },
      "outputs": [],
      "source": [
        "import numpy as np\nimport matplotlib.pyplot as plt\nfrom scipy.optimize import curve_fit\nfrom pydune.physics import (quadratic_transport_law, cubic_transport_law, quartic_transport_law)\n\n# Loading the different data\nData_creyssel09 = np.load('../src/Data_creyssel09.npy',\n                          allow_pickle=True).item()\nData_Ho2011 = np.load('../src/Data_Ho2011.npy',\n                      allow_pickle=True).item()\nDatasets = {'Creyssel09': Data_creyssel09, 'Ho2011': Data_Ho2011}\n\n# preparing data for fits\nshield = np.concatenate([Datasets[dataset]['Shield'] for dataset in sorted(Datasets.keys())])\nshield_err = np.concatenate([np.abs(Datasets[dataset]['Shield'] - Datasets[dataset]['Shield_err']).mean(axis=0)\n                             for dataset in sorted(Datasets.keys())])\nQ = np.concatenate([Datasets[dataset]['Q_adi'] for dataset in sorted(Datasets.keys())])\nQ_err = np.concatenate([np.abs(Datasets[dataset]['Q_adi'] - Datasets[dataset]['Q_adi_err']).mean(axis=0)\n                        for dataset in sorted(Datasets.keys())])\n\n# ### transport laws used\nlaws = [quadratic_transport_law, cubic_transport_law, quartic_transport_law]\nlabels = ['quadratic transport law', 'cubic transport law', 'quartic transport law']\np0_s = [[0.01, 6], [0.02, 4], [0.02]]  # initial guesses to help fit convergence\n\ntheta_plot_lin = np.linspace(0, 0.2, 400)\ntheta_plot_log = np.logspace(np.log10(3e-3), np.log10(2e-1), 400)\n\nfor i, theta_plot in enumerate([theta_plot_lin, theta_plot_log]):\n    fig, ax = plt.subplots(1, 1, constrained_layout=True)\n    # #### plotting datasets\n    for dataset in Datasets.keys():\n        ax.errorbar(Datasets[dataset]['Shield'], Datasets[dataset]['Q_adi'],\n                    xerr=np.abs(Datasets[dataset]['Shield'] - Datasets[dataset]['Shield_err']),\n                    yerr=np.abs(Datasets[dataset]['Q_adi'] - Datasets[dataset]['Q_adi_err']),\n                    linestyle='None', label=dataset, fmt='.')\n    # ### fitting and ploting results\n    for law, label, p0 in zip(laws, labels, p0_s):\n        p, pcov = curve_fit(law, shield, Q, sigma=Q_err, absolute_sigma=True, p0=p0)\n        ax.plot(theta_plot, law(theta_plot, *p), label=label)\n        #\n        if i == 1:\n            if p.size == 2:\n                print(\n                    r\"\"\"{}: $\\omega = {:.2f}$, $\\theta_{{\\rm th}}$ = {:.2e}\"\"\".format(label, p[1], p[0])\n                )\n            else:\n                print(\n                    r\"\"\"{}: $\\theta_{{\\rm th}}$ = {:.2e}\"\"\".format(label, p[0])\n                )\n\n    ax.set_xlabel(r'Shield number, $\\theta$')\n    ax.set_ylabel('Non dimensional saturated flux, $Q$')\n    ax.legend()\n    if i == 1:\n        ax.set_xscale('log')\n        ax.set_yscale('log')\n        ax.set_ylim(bottom=1e-3)\n    plt.show()"
      ]
    }
  ],
  "metadata": {
    "kernelspec": {
      "display_name": "Python 3",
      "language": "python",
      "name": "python3"
    },
    "language_info": {
      "codemirror_mode": {
        "name": "ipython",
        "version": 3
      },
      "file_extension": ".py",
      "mimetype": "text/x-python",
      "name": "python",
      "nbconvert_exporter": "python",
      "pygments_lexer": "ipython3",
      "version": "3.13.5"
    }
  },
  "nbformat": 4,
  "nbformat_minor": 0
}